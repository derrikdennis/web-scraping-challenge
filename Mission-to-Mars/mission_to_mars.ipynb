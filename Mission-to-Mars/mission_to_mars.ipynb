{
 "metadata": {
  "language_info": {
   "codemirror_mode": {
    "name": "ipython",
    "version": 3
   },
   "file_extension": ".py",
   "mimetype": "text/x-python",
   "name": "python",
   "nbconvert_exporter": "python",
   "pygments_lexer": "ipython3",
   "version": "3.8.5-final"
  },
  "orig_nbformat": 2,
  "kernelspec": {
   "name": "python38564bitscrapingenvironmentconda7610b6231933400cb4e11db533a2d534",
   "display_name": "Python 3.8.5 64-bit ('ScrapingEnvironment': conda)"
  }
 },
 "nbformat": 4,
 "nbformat_minor": 2,
 "cells": [
  {
   "cell_type": "markdown",
   "metadata": {},
   "source": [
    "# Mission to Mars - Jupyter Notebook"
   ]
  },
  {
   "cell_type": "code",
   "execution_count": 1,
   "metadata": {},
   "outputs": [],
   "source": [
    "#iporting the packages we will need to run our code\n",
    "\n",
    "from splinter import Browser\n",
    "from bs4 import BeautifulSoup\n",
    "import time\n",
    "import pandas as pd\n"
   ]
  },
  {
   "cell_type": "markdown",
   "metadata": {},
   "source": [
    "## NASA Mars News - Scraping NASA's mars page for the latest news"
   ]
  },
  {
   "cell_type": "code",
   "execution_count": 2,
   "metadata": {},
   "outputs": [],
   "source": [
    "#Using Splinter to scrape data from the NASA website.\n",
    "\n",
    "url = \"https://mars.nasa.gov/news\"\n",
    "executable_path = {'executable_path': 'chromedriver.exe'}\n",
    "browser = Browser('chrome', **executable_path, headless=True)\n",
    "browser.visit(url)\n"
   ]
  },
  {
   "cell_type": "code",
   "execution_count": 3,
   "metadata": {},
   "outputs": [],
   "source": [
    "time.sleep(5)"
   ]
  },
  {
   "cell_type": "code",
   "execution_count": 4,
   "metadata": {},
   "outputs": [],
   "source": [
    "#Use Beautiful Soup to read in HTML code\n",
    "soup = BeautifulSoup(browser.html, \"html.parser\")"
   ]
  },
  {
   "cell_type": "code",
   "execution_count": 6,
   "metadata": {
    "tags": []
   },
   "outputs": [],
   "source": [
    "#The news links are in a section 'UL' section with a class of 'item_list'\n",
    "\n",
    "section = soup.find('ul',attrs={\"class\":\"item_list\"})\n"
   ]
  },
  {
   "cell_type": "code",
   "execution_count": 226,
   "metadata": {
    "tags": []
   },
   "outputs": [
    {
     "output_type": "stream",
     "name": "stdout",
     "text": "[\"Celebrate Mars Reconnaissance Orbiter's Views From Above\", \"NASA's MAVEN Observes Martian Night Sky Pulsing in Ultraviolet Light\", \"8 Martian Postcards to Celebrate Curiosity's Landing Anniversary\", 'NASA, ULA Launch Mars 2020 Perseverance Rover Mission to Red Planet', \"NASA's Perseverance Rover Will Carry First Spacesuit Materials to Mars\", \"A New Video Captures the Science of NASA's Perseverance Mars Rover\", 'NASA Invites Public to Share Excitement of Mars 2020 Perseverance Rover Launch', \"NASA's Mars Perseverance Rover Passes Flight Readiness Review\", 'NASA to Broadcast Mars 2020 Perseverance Launch, Prelaunch Activities', \"6 Things to Know About NASA's Ingenuity Mars Helicopter\", 'Join NASA for the Launch of the Mars 2020 Perseverance Rover', \"NASA's Perseverance Rover Attached to Atlas V Rocket\", '7 Things to Know About the Mars 2020 Perseverance Rover Mission', \"NASA's InSight Flexes Its Arm While Its 'Mole' Hits Pause\", \"Curiosity Mars Rover's Summer Road Trip Has Begun\", \"How NASA's Mars Helicopter Will Reach the Red Planet's Surface\", \"The Launch Is Approaching for NASA's Next Mars Rover, Perseverance\", 'NASA to Hold Mars 2020 Perseverance Rover Launch Briefing', \"While Stargazing on Mars, NASA's Curiosity Rover Spots Earth and Venus\", \"NASA's Mars Rover Drivers Need Your Help\", \"Three New Views of Mars' Moon Phobos\", \"The Extraordinary Sample-Gathering System of NASA's Perseverance Mars Rover\", \"The Detective Aboard NASA's Perseverance Rover\", 'MAVEN Maps Electric Currents around Mars that are Fundamental to Atmospheric Loss', \"Air Deliveries Bring NASA's Perseverance Mars Rover Closer to Launch\", \"NASA Wins 4 Webbys, 4 People's Voice Awards\", \"NASA's Perseverance Rover Goes Through Trials by Fire, Ice, Light and Sound\", \"NASA's Perseverance Rover Mission Getting in Shape for Launch\", 'NASA Perseverance Mars Rover Scientists Train in the Nevada Desert', \"NASA's Perseverance Rover Will Look at Mars Through These 'Eyes'\", \"Meet the People Behind NASA's Perseverance Rover\", \"Q&A with the Student Who Named Ingenuity, NASA's Mars Helicopter\", \"Alabama High School Student Names NASA's Mars Helicopter\", \"How NASA's Perseverance Mars Team Adjusted to Work in the Time of Coronavirus \", \"NASA's Perseverance Mars Rover Gets Balanced\", \"NASA's Curiosity Keeps Rolling As Team Operates Rover From Home\", \"Mars Helicopter Attached to NASA's Perseverance Rover\", \"NASA's Perseverance Mars Rover Gets Its Wheels and Air Brakes\", 'The Man Who Wanted to Fly on Mars', \"10.9 Million Names Now Aboard NASA's Perseverance Mars Rover\"]\n"
    }
   ],
   "source": [
    "#Capturing the news aritcles on the page.\n",
    "\n",
    "news = section.find_all(\"li\",attrs={\"class\":\"slide\"})\n",
    "newsDate = []\n",
    "newsHeader = []\n",
    "newsInfo = []\n",
    "for new in news:\n",
    "    items = new.find(\"div\", attrs={\"class\":\"list_text\"})\n",
    "    itemDate = items.find(\"div\",attrs={\"class\":\"list_date\"}).string\n",
    "    itemHeader = items.find(\"div\",attrs={\"class\":\"content_title\"}).string\n",
    "    itemBody = items.find(\"div\",attrs={\"class\":\"article_teaser_body\"}).string\n",
    "    newsDate.append(itemDate)\n",
    "    newsHeader.append(itemHeader)\n",
    "    newsInfo.append(itemBody)\n",
    "print(newsHeader)\n",
    "    "
   ]
  },
  {
   "cell_type": "code",
   "execution_count": 227,
   "metadata": {
    "tags": []
   },
   "outputs": [
    {
     "output_type": "stream",
     "name": "stdout",
     "text": "Celebrate Mars Reconnaissance Orbiter's Views From Above Marking its 15th anniversary since launch, one of the oldest spacecraft at the Red Planet has provided glimpses of dust devils, avalanches, and more.\n"
    }
   ],
   "source": [
    "news_date = newsDate[0]\n",
    "news_title = newsHeader[0]\n",
    "news_p = newsInfo[0]\n",
    "\n",
    "print(news_title, news_p)"
   ]
  },
  {
   "cell_type": "code",
   "execution_count": 13,
   "metadata": {},
   "outputs": [
    {
     "output_type": "execute_result",
     "data": {
      "text/plain": "         News Date                                          News Item  \\\n0  August 12, 2020  Celebrate Mars Reconnaissance Orbiter's Views ...   \n1  August  6, 2020  NASA's MAVEN Observes Martian Night Sky Pulsin...   \n2  August  3, 2020  8 Martian Postcards to Celebrate Curiosity's L...   \n3    July 30, 2020  NASA, ULA Launch Mars 2020 Perseverance Rover ...   \n4    July 28, 2020  NASA's Perseverance Rover Will Carry First Spa...   \n\n                                             Article  \n0  Marking its 15th anniversary since launch, one...  \n1  Vast areas of the Martian night sky pulse in u...  \n2  The NASA rover touched down eight years ago, o...  \n3  The agency's Mars 2020 mission is on its way. ...  \n4  In a Q&A, spacesuit designer Amy Ross explains...  ",
      "text/html": "<div>\n<style scoped>\n    .dataframe tbody tr th:only-of-type {\n        vertical-align: middle;\n    }\n\n    .dataframe tbody tr th {\n        vertical-align: top;\n    }\n\n    .dataframe thead th {\n        text-align: right;\n    }\n</style>\n<table border=\"1\" class=\"dataframe\">\n  <thead>\n    <tr style=\"text-align: right;\">\n      <th></th>\n      <th>News Date</th>\n      <th>News Item</th>\n      <th>Article</th>\n    </tr>\n  </thead>\n  <tbody>\n    <tr>\n      <th>0</th>\n      <td>August 12, 2020</td>\n      <td>Celebrate Mars Reconnaissance Orbiter's Views ...</td>\n      <td>Marking its 15th anniversary since launch, one...</td>\n    </tr>\n    <tr>\n      <th>1</th>\n      <td>August  6, 2020</td>\n      <td>NASA's MAVEN Observes Martian Night Sky Pulsin...</td>\n      <td>Vast areas of the Martian night sky pulse in u...</td>\n    </tr>\n    <tr>\n      <th>2</th>\n      <td>August  3, 2020</td>\n      <td>8 Martian Postcards to Celebrate Curiosity's L...</td>\n      <td>The NASA rover touched down eight years ago, o...</td>\n    </tr>\n    <tr>\n      <th>3</th>\n      <td>July 30, 2020</td>\n      <td>NASA, ULA Launch Mars 2020 Perseverance Rover ...</td>\n      <td>The agency's Mars 2020 mission is on its way. ...</td>\n    </tr>\n    <tr>\n      <th>4</th>\n      <td>July 28, 2020</td>\n      <td>NASA's Perseverance Rover Will Carry First Spa...</td>\n      <td>In a Q&amp;A, spacesuit designer Amy Ross explains...</td>\n    </tr>\n  </tbody>\n</table>\n</div>"
     },
     "metadata": {},
     "execution_count": 13
    }
   ],
   "source": [
    "#Taking this one step further and putting it in a DataFrame\n",
    "\n",
    "newsNASA = pd.DataFrame({\"News Date\" : news_date,\n",
    "                        \"News Item\" : news_title,\n",
    "                        \"Article\" : news_p})\n",
    "newsNASA.head()"
   ]
  },
  {
   "cell_type": "code",
   "execution_count": 102,
   "metadata": {},
   "outputs": [],
   "source": [
    "#We're done with this browser.\n",
    "browser.quit()"
   ]
  },
  {
   "cell_type": "markdown",
   "metadata": {},
   "source": [
    "## Capture the Featured Image on the JPL Mars Space Images Page"
   ]
  },
  {
   "cell_type": "code",
   "execution_count": 103,
   "metadata": {},
   "outputs": [],
   "source": [
    "#Using Splinter to get our website visit ready.\n",
    "\n",
    "jpl_base_url = \"https://www.jpl.nasa.gov\"\n",
    "jpl_search_url = \"/spaceimages/?search=&category=Mars\"\n",
    "executable_path = {'executable_path': 'chromedriver.exe'}\n",
    "browser = Browser('chrome', **executable_path, headless=True)\n"
   ]
  },
  {
   "cell_type": "code",
   "execution_count": 104,
   "metadata": {},
   "outputs": [],
   "source": [
    "#This visit the website.\n",
    "browser.visit(jpl_base_url + jpl_search_url)"
   ]
  },
  {
   "cell_type": "code",
   "execution_count": 105,
   "metadata": {},
   "outputs": [],
   "source": [
    "#Clicking on the button to get to the feature image.\n",
    "\n",
    "targetID =  'full_image'\n",
    "browser.find_by_id(targetID).click()"
   ]
  },
  {
   "cell_type": "code",
   "execution_count": 106,
   "metadata": {},
   "outputs": [],
   "source": [
    "#Clicking on the \"more info\" button to get capture the largest possible image.\n",
    "browser.click_link_by_partial_text(\"more info\")"
   ]
  },
  {
   "cell_type": "code",
   "execution_count": 107,
   "metadata": {},
   "outputs": [],
   "source": [
    "#Using BeautifulSoup to look at the HTML data\n",
    "imagesoup = BeautifulSoup(browser.html, \"html.parser\")"
   ]
  },
  {
   "cell_type": "code",
   "execution_count": 111,
   "metadata": {
    "tags": []
   },
   "outputs": [
    {
     "output_type": "stream",
     "name": "stdout",
     "text": "https://www.jpl.nasa.gov/spaceimages/images/largesize/PIA14872_hires.jpg\n"
    }
   ],
   "source": [
    "#Capturing the URL of the featured image.\n",
    "imageLocation = imagesoup.find('figure',attrs={\"class\":\"lede\"}).find(\"a\")\n",
    "image_url = (imageLocation.get('href'))\n",
    "featured_image_url = (jpl_base_url + image_url)\n",
    "print(featured_image_url)\n",
    "\n"
   ]
  },
  {
   "cell_type": "code",
   "execution_count": 222,
   "metadata": {},
   "outputs": [],
   "source": [
    "#Let's quit the browser again.\n",
    "browser.quit()"
   ]
  },
  {
   "cell_type": "markdown",
   "metadata": {},
   "source": [
    "## Capturing the latest weather from Mars using Twitter"
   ]
  },
  {
   "cell_type": "code",
   "execution_count": 221,
   "metadata": {},
   "outputs": [],
   "source": [
    "#Let's set up the Twitter path\n",
    "mars_WX = \"https://twitter.com/marswxreport?lang=en\"\n",
    "executable_path = {'executable_path': 'chromedriver.exe'}\n",
    "browser = Browser('chrome', **executable_path, headless=True)\n",
    "browser.visit(mars_WX)\n"
   ]
  },
  {
   "cell_type": "code",
   "execution_count": 113,
   "metadata": {},
   "outputs": [],
   "source": [
    "#Giving Twitter a little time to load\n",
    "time.sleep(5)"
   ]
  },
  {
   "cell_type": "code",
   "execution_count": 114,
   "metadata": {},
   "outputs": [],
   "source": [
    "#Creating the soup to look at the HTML Code\n",
    "WX_soup = BeautifulSoup(browser.html, \"html.parser\")"
   ]
  },
  {
   "cell_type": "code",
   "execution_count": 160,
   "metadata": {
    "tags": []
   },
   "outputs": [
    {
     "output_type": "execute_result",
     "data": {
      "text/plain": "'InSight sol 607 (2020-08-11) low -93.1C (-135.6F) high -18.9C (-2.1F) winds from the WNW at 8.2 m/s (18.4 mph) gusting to 21.4 m/s (47.8 mph) pressure at 7.90 hPa'"
     },
     "metadata": {},
     "execution_count": 160
    }
   ],
   "source": [
    "#Capturing the latest weather data from InSign Space rocket which touched down on May 5, 2018. \n",
    "\n",
    "tweets = WX_soup.find_all(\"span\", attrs={\"class\":{\"css-901oao\",\"r-qvutc0\"}})\n",
    "mars_WX_Reports = []\n",
    "for tweet in tweets:\n",
    "    tweet_text = tweet.text\n",
    "    tt = tweet_text.replace(\"\\n\",\" \").replace(\"º\",\"\")\n",
    "\n",
    "    if \" sol \" in tt:\n",
    "        mars_WX_Reports.append(tt)\n",
    "\n",
    "Mars_WX = mars_WX_Reports[0]\n",
    "Mars_WX"
   ]
  },
  {
   "cell_type": "code",
   "execution_count": 161,
   "metadata": {},
   "outputs": [],
   "source": [
    "#Now closing the browser\n",
    "browser.quit()"
   ]
  },
  {
   "cell_type": "markdown",
   "metadata": {},
   "source": [
    "## Create a table through Pandas read_HTML process to capture facts about Mars."
   ]
  },
  {
   "cell_type": "code",
   "execution_count": 188,
   "metadata": {
    "tags": []
   },
   "outputs": [
    {
     "output_type": "execute_result",
     "data": {
      "text/plain": "                                              Value\nInfo                                               \nEquatorial Diameter:                       6,792 km\nPolar Diameter:                            6,752 km\nMass:                 6.39 × 10^23 kg (0.11 Earths)\nMoons:                          2 (Phobos & Deimos)\nOrbit Distance:            227,943,824 km (1.38 AU)\nOrbit Period:                  687 days (1.9 years)\nSurface Temperature:                   -87 to -5 °C\nFirst Record:                     2nd millennium BC\nRecorded By:                   Egyptian astronomers",
      "text/html": "<div>\n<style scoped>\n    .dataframe tbody tr th:only-of-type {\n        vertical-align: middle;\n    }\n\n    .dataframe tbody tr th {\n        vertical-align: top;\n    }\n\n    .dataframe thead th {\n        text-align: right;\n    }\n</style>\n<table border=\"1\" class=\"dataframe\">\n  <thead>\n    <tr style=\"text-align: right;\">\n      <th></th>\n      <th>Value</th>\n    </tr>\n    <tr>\n      <th>Info</th>\n      <th></th>\n    </tr>\n  </thead>\n  <tbody>\n    <tr>\n      <th>Equatorial Diameter:</th>\n      <td>6,792 km</td>\n    </tr>\n    <tr>\n      <th>Polar Diameter:</th>\n      <td>6,752 km</td>\n    </tr>\n    <tr>\n      <th>Mass:</th>\n      <td>6.39 × 10^23 kg (0.11 Earths)</td>\n    </tr>\n    <tr>\n      <th>Moons:</th>\n      <td>2 (Phobos &amp; Deimos)</td>\n    </tr>\n    <tr>\n      <th>Orbit Distance:</th>\n      <td>227,943,824 km (1.38 AU)</td>\n    </tr>\n    <tr>\n      <th>Orbit Period:</th>\n      <td>687 days (1.9 years)</td>\n    </tr>\n    <tr>\n      <th>Surface Temperature:</th>\n      <td>-87 to -5 °C</td>\n    </tr>\n    <tr>\n      <th>First Record:</th>\n      <td>2nd millennium BC</td>\n    </tr>\n    <tr>\n      <th>Recorded By:</th>\n      <td>Egyptian astronomers</td>\n    </tr>\n  </tbody>\n</table>\n</div>"
     },
     "metadata": {},
     "execution_count": 188
    }
   ],
   "source": [
    "#This will capture the table through Pandas to get the Facts about Mars\n",
    "\n",
    "mars_facts_df = pd.read_html(\"https://space-facts.com/mars/\")[0]\n",
    "mars_facts_df.columns = ['Info','Value']\n",
    "mars_facts_df.set_index('Info',inplace = True)\n",
    "mars_facts_df"
   ]
  },
  {
   "cell_type": "markdown",
   "metadata": {},
   "source": [
    "## Getting hemisphere images of Mars"
   ]
  },
  {
   "cell_type": "code",
   "execution_count": 194,
   "metadata": {},
   "outputs": [],
   "source": [
    "#Setting up Splinter to browse the website to capture images of Mars.\n",
    "\n",
    "hemi_url = \"https://astrogeology.usgs.gov/search/results?q=hemisphere+enhanced&k1=target&v1=Mars\"\n",
    "executable_path = {'executable_path': 'chromedriver.exe'}\n",
    "browser = Browser('chrome', **executable_path, headless=False)\n",
    "browser.visit(hemi_url)"
   ]
  },
  {
   "cell_type": "code",
   "execution_count": 210,
   "metadata": {},
   "outputs": [],
   "source": [
    "#now visiting the website\n",
    "browser.visit(hemi_url)"
   ]
  },
  {
   "cell_type": "code",
   "execution_count": 213,
   "metadata": {
    "tags": []
   },
   "outputs": [
    {
     "output_type": "stream",
     "name": "stdout",
     "text": "[{'title': 'Cerberus Hemisphere', 'img_url': 'https://astropedia.astrogeology.usgs.gov/download/Mars/Viking/cerberus_enhanced.tif/full.jpg'}, {'title': 'Schiaparelli Hemisphere', 'img_url': 'https://astropedia.astrogeology.usgs.gov/download/Mars/Viking/schiaparelli_enhanced.tif/full.jpg'}, {'title': 'Syrtis Major Hemisphere', 'img_url': 'https://astropedia.astrogeology.usgs.gov/download/Mars/Viking/syrtis_major_enhanced.tif/full.jpg'}, {'title': 'Valles Marineris Hemisphere', 'img_url': 'https://astropedia.astrogeology.usgs.gov/download/Mars/Viking/valles_marineris_enhanced.tif/full.jpg'}]\n"
    }
   ],
   "source": [
    "#Capturing the Hemisphere title and image url.\n",
    "\n",
    "hemisphere_image_urls = []\n",
    "\n",
    "\n",
    "links = browser.find_by_css(\"a.itemLink.product-item h3\")\n",
    "\n",
    "for link in range(len(links)):\n",
    "    browser.find_by_css(\"a.itemLink.product-item h3\")[link].click()\n",
    "\n",
    "    image_element = browser.find_link_by_text(\"Sample\").first\n",
    "\n",
    "    hemi_image_url = image_element[\"href\"]\n",
    "\n",
    "    hemi_title = browser.find_by_css(\"h2.title\").text.replace(\" Enhanced\",\"\")\n",
    "\n",
    "    hemisphere_image_urls.append({\"title\" : hemi_title, \n",
    "                                  \"img_url\":hemi_image_url})\n",
    "    \n",
    "    browser.back()\n",
    "\n",
    "\n",
    "print(hemisphere_image_urls)\n",
    "\n",
    "    "
   ]
  },
  {
   "cell_type": "code",
   "execution_count": null,
   "metadata": {},
   "outputs": [],
   "source": []
  }
 ]
}